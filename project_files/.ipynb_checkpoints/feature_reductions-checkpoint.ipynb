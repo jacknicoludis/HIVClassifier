{
 "cells": [
  {
   "cell_type": "code",
   "execution_count": 1,
   "metadata": {},
   "outputs": [],
   "source": [
    "import numpy as np\n",
    "import pandas as pd\n",
    "from sklearn.decomposition import TruncatedSVD\n",
    "import math\n",
    "import matplotlib.pyplot as plt\n",
    "import seaborn as sns"
   ]
  },
  {
   "cell_type": "code",
   "execution_count": 2,
   "metadata": {},
   "outputs": [],
   "source": [
    "def make_df_up_level(osu_df,tax_df,level,norm_type):\n",
    "    up_dict = dict(zip(tax_df.osu_id, tax_df[level]))\n",
    "    for key in up_dict:\n",
    "\n",
    "        val = str(up_dict[key])\n",
    "        val = val.replace(']','_')\n",
    "        val = val.replace('[','_')\n",
    "        up_dict[key]=val\n",
    "    \n",
    "    df = osu_df.rename(columns=up_dict)\n",
    "    cols = df.columns.tolist()\n",
    "    cols = [x for x in cols if \"_\" not in str(x)]\n",
    "    df = df.drop(cols, axis=1)\n",
    "    \n",
    "    if norm_type == 'clr':\n",
    "        df = df.applymap(np.exp)\n",
    "    \n",
    "    df = df.groupby(by=df.columns, axis=1).sum()\n",
    "    if norm_type == 'clr':\n",
    "        df = df.applymap(np.log)\n",
    "    df = pd.concat([df,osu_df.Group],axis=1)\n",
    "    \n",
    "    return df"
   ]
  },
  {
   "cell_type": "code",
   "execution_count": 3,
   "metadata": {},
   "outputs": [],
   "source": [
    "def SVD_truncate(df,ncomp):\n",
    "    labels = df.Group.unique()\n",
    "    d_cat ={}\n",
    "    for i,cat in enumerate(labels):\n",
    "        d_cat[cat]=i\n",
    "    Y = [d_cat[x] for x in df['Group'].tolist()]\n",
    "    X = np.array(df.drop(['Group'], axis=1))\n",
    "    svd = TruncatedSVD(n_components=ncomp, n_iter=10, random_state=42)\n",
    "    svd_result = svd.fit(X) \n",
    "    svd_X = svd.fit_transform(X)\n",
    "    print(\"Explained variance ratios:\")\n",
    "    print(svd_result.explained_variance_ratio_)\n",
    "    \n",
    "    return svd_X, Y, labels"
   ]
  },
  {
   "cell_type": "code",
   "execution_count": 4,
   "metadata": {},
   "outputs": [],
   "source": [
    "def make_dataset_osu_diff(df, ncomp, cutoff):\n",
    "    labels = df.Group.unique()\n",
    "    d_cat ={}\n",
    "    for i,cat in enumerate(labels):\n",
    "        d_cat[cat]=i\n",
    "    Y = [d_cat[x] for x in df['Group'].tolist()]\n",
    "    df = df.set_index(['Group'])\n",
    "    dfT = df.T\n",
    "    dfT = dfT.groupby(by=dfT.columns, axis=1).mean()\n",
    "\n",
    "    dfT = dfT[~(dfT[dfT.columns] < cutoff).any(axis=1)]\n",
    "    dfT['diff']=abs(dfT[dfT.columns[0]]-dfT[dfT.columns[1]])\n",
    "    dfT = dfT.sort_values(by=['diff'],ascending=False)\n",
    "    inds = dfT.index.tolist()[0:ncomp]\n",
    "    df = df[inds]\n",
    "    X = np.array(df)\n",
    "\n",
    "    return X,Y,labels,inds"
   ]
  },
  {
   "cell_type": "code",
   "execution_count": 9,
   "metadata": {},
   "outputs": [],
   "source": [
    "def make_dataset(df, cutoff):\n",
    "    labels = df.Group.unique()\n",
    "    d_cat ={}\n",
    "    for i,cat in enumerate(labels):\n",
    "        d_cat[cat]=i\n",
    "    Y = [d_cat[x] for x in df['Group'].tolist()]\n",
    "    df = df.set_index(['Group'])\n",
    "    dfT = df.T\n",
    "    dfT = dfT.groupby(by=dfT.columns, axis=1).mean()\n",
    "    \n",
    "    dfT = dfT[~(dfT[dfT.columns] < cutoff).any(axis=1)]\n",
    "    inds = dfT.index.tolist()\n",
    "    df = df[inds]\n",
    "    X = np.array(df)\n",
    "\n",
    "    return X,Y,labels,inds"
   ]
  },
  {
   "cell_type": "code",
   "execution_count": 6,
   "metadata": {},
   "outputs": [],
   "source": [
    "def make_dataset_zscore(df, ncomp, cutoff, plot_cutoff):\n",
    "    dfn = df\n",
    "    labels = df.Group.unique()\n",
    "    d_cat ={}\n",
    "    for i,cat in enumerate(labels):\n",
    "        d_cat[cat]=i\n",
    "    Y = [d_cat[x] for x in df['Group'].tolist()]\n",
    "    dfn = dfn.set_index(['Group'])\n",
    "    dfT = dfn.T\n",
    "    dfTmean = dfT.groupby(by=dfT.columns, axis=1).mean()\n",
    "    dfTstd = dfT.groupby(by=dfT.columns, axis=1).std()\n",
    "    dfTstd.columns = [x+\"_std\" for x in dfTstd.columns.tolist()]\n",
    "    dfT = pd.concat([dfTmean,dfTstd],axis=1)\n",
    "\n",
    "    dfT = dfT[~(dfT[dfT.columns] < cutoff).any(axis=1)]\n",
    "    dfT['zscore']=abs((dfT[dfT.columns[0]]-dfT[dfT.columns[1]])/((dfT[dfT.columns[2]]+dfT[dfT.columns[3]])/2))\n",
    "    dfT = dfT.sort_values(by=['zscore'],ascending=False)\n",
    "    plt.figure(figsize=((15,4)))\n",
    "    dfT[dfT['zscore']>plot_cutoff].plot.bar(y = 'zscore')\n",
    "    inds = dfT.index.tolist()[0:ncomp]\n",
    "    df = df[inds]\n",
    "    X = np.array(df)\n",
    "\n",
    "    return X,Y,labels,inds"
   ]
  },
  {
   "cell_type": "code",
   "execution_count": 23,
   "metadata": {},
   "outputs": [],
   "source": [
    "def feature_from_correlation(df,ncomp):\n",
    "    dfn = df\n",
    "    labels = df.Group.unique()\n",
    "    d_cat = {}\n",
    "    for i,cat in enumerate(labels):\n",
    "        dfn = dfn.replace(cat,i)\n",
    "    Y = dfn['Group'].tolist()\n",
    "    \n",
    "    cor = dfn.corr()\n",
    "    \n",
    "    #Correlation with output variable\n",
    "    cor_target = abs(cor[\"Group\"])\n",
    "    relevant_features = cor_target.sort_values(ascending=False).head(ncomp+1)\n",
    "    \n",
    "    dfn = dfn[relevant_features.index]\n",
    "    dfn = dfn.drop(['Group'],axis=1)\n",
    "    X = np.array(dfn)\n",
    "    inds = dfn.columns.tolist()\n",
    "    \n",
    "    return X,Y,labels,inds"
   ]
  },
  {
   "cell_type": "code",
   "execution_count": null,
   "metadata": {},
   "outputs": [],
   "source": []
  }
 ],
 "metadata": {
  "kernelspec": {
   "display_name": "Python 3",
   "language": "python",
   "name": "python3"
  },
  "language_info": {
   "codemirror_mode": {
    "name": "ipython",
    "version": 3
   },
   "file_extension": ".py",
   "mimetype": "text/x-python",
   "name": "python",
   "nbconvert_exporter": "python",
   "pygments_lexer": "ipython3",
   "version": "3.7.4"
  }
 },
 "nbformat": 4,
 "nbformat_minor": 2
}
